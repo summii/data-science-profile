{
  "nbformat": 4,
  "nbformat_minor": 0,
  "metadata": {
    "colab": {
      "name": "Autoencoders.ipynb",
      "provenance": [],
      "authorship_tag": "ABX9TyOVJTT9PbgXsrmIwaCKT/UY",
      "include_colab_link": true
    },
    "kernelspec": {
      "name": "python3",
      "display_name": "Python 3"
    },
    "accelerator": "GPU"
  },
  "cells": [
    {
      "cell_type": "markdown",
      "metadata": {
        "id": "view-in-github",
        "colab_type": "text"
      },
      "source": [
        "<a href=\"https://colab.research.google.com/github/summii/data-science-profile/blob/master/Autoencoders.ipynb\" target=\"_parent\"><img src=\"https://colab.research.google.com/assets/colab-badge.svg\" alt=\"Open In Colab\"/></a>"
      ]
    },
    {
      "cell_type": "code",
      "metadata": {
        "id": "Dkdpd3MnLTAL",
        "colab_type": "code",
        "colab": {
          "base_uri": "https://localhost:8080/",
          "height": 69
        },
        "outputId": "649d6c6a-17f4-4476-dcef-cc886f6111b3"
      },
      "source": [
        "!pip install imageio"
      ],
      "execution_count": 1,
      "outputs": [
        {
          "output_type": "stream",
          "text": [
            "Requirement already satisfied: imageio in /usr/local/lib/python3.6/dist-packages (2.4.1)\n",
            "Requirement already satisfied: numpy in /usr/local/lib/python3.6/dist-packages (from imageio) (1.17.5)\n",
            "Requirement already satisfied: pillow in /usr/local/lib/python3.6/dist-packages (from imageio) (6.2.2)\n"
          ],
          "name": "stdout"
        }
      ]
    },
    {
      "cell_type": "code",
      "metadata": {
        "id": "tJ1gRvJJNeFA",
        "colab_type": "code",
        "colab": {}
      },
      "source": [
        "from tensorflow.keras.layers import Input, Dense, Conv2D, MaxPooling2D, UpSampling2D\n",
        "from tensorflow.keras.models import Model\n",
        "from keras import backend as K\n",
        "import os\n",
        "import glob\n",
        "import imageio\n",
        "import numpy as np\n",
        "import cv2\n",
        "from keras import regularizers\n",
        "from keras.datasets import mnist\n"
      ],
      "execution_count": 0,
      "outputs": []
    },
    {
      "cell_type": "code",
      "metadata": {
        "id": "IoZfN7jTAbiG",
        "colab_type": "code",
        "colab": {
          "base_uri": "https://localhost:8080/",
          "height": 34
        },
        "outputId": "f99d9def-aad2-4ce7-ff59-58c0d8ebfe2c"
      },
      "source": [
        "!git clone https://github.com/zaidalyafeai/QuickDraw10"
      ],
      "execution_count": 15,
      "outputs": [
        {
          "output_type": "stream",
          "text": [
            "fatal: destination path 'QuickDraw10' already exists and is not an empty directory.\n"
          ],
          "name": "stdout"
        }
      ]
    },
    {
      "cell_type": "code",
      "metadata": {
        "id": "clkDv261Ahxr",
        "colab_type": "code",
        "colab": {}
      },
      "source": [
        "import numpy as np\n",
        "\n",
        "train_data = np.load('QuickDraw10/dataset/train-ubyte.npz')\n",
        "test_data = np.load('QuickDraw10/dataset/test-ubyte.npz')\n",
        "\n",
        "x_train, y_train = train_data['a'], test_data['b']\n",
        "\n",
        "x_test, y_test = test_data['a'], test_data['b']"
      ],
      "execution_count": 0,
      "outputs": []
    },
    {
      "cell_type": "code",
      "metadata": {
        "id": "SMkvnzZ9BaF7",
        "colab_type": "code",
        "colab": {
          "base_uri": "https://localhost:8080/",
          "height": 52
        },
        "outputId": "8e7d4520-47cd-4777-e82f-c524e65c4d82"
      },
      "source": [
        "x_train = np.expand_dims(x_train.astype('float32') / 255., 3)\n",
        "x_test = np.expand_dims(x_test.astype('float32') / 255., 3)\n",
        "\n",
        "print(x_train.shape)\n",
        "print(x_test.shape)"
      ],
      "execution_count": 17,
      "outputs": [
        {
          "output_type": "stream",
          "text": [
            "(80000, 28, 28, 1)\n",
            "(20000, 28, 28, 1)\n"
          ],
          "name": "stdout"
        }
      ]
    },
    {
      "cell_type": "code",
      "metadata": {
        "id": "Y3Gfz0YgCfHq",
        "colab_type": "code",
        "colab": {}
      },
      "source": [
        "def create_layers():\n",
        "  layers = []\n",
        "  size = 32 \n",
        "  \n",
        "  #encoder layers\n",
        "  for i in range(0, 3):\n",
        "    x = Conv2D(size, (3, 3), activation='relu', padding='same')\n",
        "    layers += [x] \n",
        "    x = MaxPooling2D((2, 2), padding='same')\n",
        "    layers += [x]\n",
        "    size = size // 2\n",
        "  \n",
        "\n",
        "  #deocder layers \n",
        "  for i in range(0, 3):\n",
        "    size = size * 2\n",
        "    if i == 2:\n",
        "      x = Conv2D(size, (3, 3), activation='relu')\n",
        "    else:\n",
        "      x = Conv2D(size, (3, 3), activation='relu', padding='same')\n",
        "    layers += [x]\n",
        "    x = UpSampling2D((2, 2))\n",
        "    layers += [x]\n",
        "    \n",
        "    \n",
        "  x = Conv2D(1, (3, 3), activation='sigmoid', padding='same')\n",
        "  layers += [x]\n",
        "  \n",
        "  return layers\n",
        "\n",
        "def autoencoder():\n",
        "  input_img = Input(shape=(28, 28, 1))  \n",
        "\n",
        "  layers = create_layers()\n",
        "\n",
        "  #create the auto encoder network \n",
        "  x = input_img\n",
        "  for layer in layers:\n",
        "    x = layer(x)\n",
        "    \n",
        "  autoencoder = Model(input_img, x)\n",
        "  autoencoder.compile(optimizer = 'adam', loss = 'binary_crossentropy')\n",
        "  \n",
        "  #create the encoder network\n",
        "  x = input_img\n",
        "  for layer in layers[0:6]:\n",
        "    x = layer(x)\n",
        "    \n",
        "  encoder = Model(input_img, x)\n",
        "  \n",
        "  #create the decoder network\n",
        "  input_encoded = Input(shape = (4, 4, 8))\n",
        "  x = input_encoded\n",
        "  for layer in layers[6:]:\n",
        "    x = layer(x)\n",
        "\n",
        "  decoder = Model(input_encoded, x)\n",
        "  return autoencoder, encoder, decoder"
      ],
      "execution_count": 0,
      "outputs": []
    },
    {
      "cell_type": "code",
      "metadata": {
        "id": "U3GlPqtGIrZO",
        "colab_type": "code",
        "colab": {}
      },
      "source": [
        "autoencoder, encoder, decoder = autoencoder()"
      ],
      "execution_count": 0,
      "outputs": []
    },
    {
      "cell_type": "code",
      "metadata": {
        "id": "rYnBzOHbP3t3",
        "colab_type": "code",
        "colab": {
          "base_uri": "https://localhost:8080/",
          "height": 1000
        },
        "outputId": "672504a6-6cb7-4b9d-cf4b-986a18d9a2a4"
      },
      "source": [
        "autoencoder.fit(x_train, x_train,\n",
        "                epochs=100,\n",
        "                batch_size=128,\n",
        "                shuffle=True,\n",
        "                validation_data=(x_test, x_test))"
      ],
      "execution_count": 21,
      "outputs": [
        {
          "output_type": "stream",
          "text": [
            "Train on 80000 samples, validate on 20000 samples\n",
            "Epoch 1/100\n",
            "80000/80000 [==============================] - 18s 219us/sample - loss: 0.3006 - val_loss: 0.2462\n",
            "Epoch 2/100\n",
            "80000/80000 [==============================] - 4s 46us/sample - loss: 0.2328 - val_loss: 0.2239\n",
            "Epoch 3/100\n",
            "80000/80000 [==============================] - 4s 46us/sample - loss: 0.2191 - val_loss: 0.2146\n",
            "Epoch 4/100\n",
            "80000/80000 [==============================] - 4s 46us/sample - loss: 0.2117 - val_loss: 0.2089\n",
            "Epoch 5/100\n",
            "80000/80000 [==============================] - 4s 45us/sample - loss: 0.2066 - val_loss: 0.2048\n",
            "Epoch 6/100\n",
            "80000/80000 [==============================] - 4s 46us/sample - loss: 0.2031 - val_loss: 0.2018\n",
            "Epoch 7/100\n",
            "80000/80000 [==============================] - 4s 45us/sample - loss: 0.2005 - val_loss: 0.1995\n",
            "Epoch 8/100\n",
            "80000/80000 [==============================] - 4s 46us/sample - loss: 0.1982 - val_loss: 0.1973\n",
            "Epoch 9/100\n",
            "80000/80000 [==============================] - 4s 46us/sample - loss: 0.1963 - val_loss: 0.1953\n",
            "Epoch 10/100\n",
            "80000/80000 [==============================] - 4s 47us/sample - loss: 0.1946 - val_loss: 0.1958\n",
            "Epoch 11/100\n",
            "80000/80000 [==============================] - 4s 47us/sample - loss: 0.1931 - val_loss: 0.1924\n",
            "Epoch 12/100\n",
            "80000/80000 [==============================] - 4s 47us/sample - loss: 0.1918 - val_loss: 0.1910\n",
            "Epoch 13/100\n",
            "80000/80000 [==============================] - 4s 46us/sample - loss: 0.1906 - val_loss: 0.1900\n",
            "Epoch 14/100\n",
            "80000/80000 [==============================] - 4s 46us/sample - loss: 0.1895 - val_loss: 0.1890\n",
            "Epoch 15/100\n",
            "80000/80000 [==============================] - 4s 46us/sample - loss: 0.1887 - val_loss: 0.1886\n",
            "Epoch 16/100\n",
            "80000/80000 [==============================] - 4s 46us/sample - loss: 0.1877 - val_loss: 0.1876\n",
            "Epoch 17/100\n",
            "80000/80000 [==============================] - 4s 46us/sample - loss: 0.1869 - val_loss: 0.1867\n",
            "Epoch 18/100\n",
            "80000/80000 [==============================] - 4s 46us/sample - loss: 0.1863 - val_loss: 0.1859\n",
            "Epoch 19/100\n",
            "80000/80000 [==============================] - 4s 47us/sample - loss: 0.1855 - val_loss: 0.1854\n",
            "Epoch 20/100\n",
            "80000/80000 [==============================] - 4s 47us/sample - loss: 0.1850 - val_loss: 0.1846\n",
            "Epoch 21/100\n",
            "80000/80000 [==============================] - 4s 47us/sample - loss: 0.1844 - val_loss: 0.1840\n",
            "Epoch 22/100\n",
            "80000/80000 [==============================] - 4s 46us/sample - loss: 0.1838 - val_loss: 0.1837\n",
            "Epoch 23/100\n",
            "80000/80000 [==============================] - 4s 46us/sample - loss: 0.1834 - val_loss: 0.1836\n",
            "Epoch 24/100\n",
            "80000/80000 [==============================] - 4s 46us/sample - loss: 0.1829 - val_loss: 0.1828\n",
            "Epoch 25/100\n",
            "80000/80000 [==============================] - 4s 46us/sample - loss: 0.1826 - val_loss: 0.1821\n",
            "Epoch 26/100\n",
            "80000/80000 [==============================] - 4s 48us/sample - loss: 0.1821 - val_loss: 0.1825\n",
            "Epoch 27/100\n",
            "80000/80000 [==============================] - 4s 47us/sample - loss: 0.1818 - val_loss: 0.1814\n",
            "Epoch 28/100\n",
            "80000/80000 [==============================] - 4s 48us/sample - loss: 0.1814 - val_loss: 0.1817\n",
            "Epoch 29/100\n",
            "80000/80000 [==============================] - 4s 46us/sample - loss: 0.1811 - val_loss: 0.1810\n",
            "Epoch 30/100\n",
            "80000/80000 [==============================] - 4s 47us/sample - loss: 0.1808 - val_loss: 0.1826\n",
            "Epoch 31/100\n",
            "80000/80000 [==============================] - 4s 48us/sample - loss: 0.1805 - val_loss: 0.1802\n",
            "Epoch 32/100\n",
            "80000/80000 [==============================] - 4s 47us/sample - loss: 0.1802 - val_loss: 0.1801\n",
            "Epoch 33/100\n",
            "80000/80000 [==============================] - 4s 46us/sample - loss: 0.1799 - val_loss: 0.1797\n",
            "Epoch 34/100\n",
            "80000/80000 [==============================] - 4s 47us/sample - loss: 0.1798 - val_loss: 0.1809\n",
            "Epoch 35/100\n",
            "80000/80000 [==============================] - 4s 48us/sample - loss: 0.1794 - val_loss: 0.1800\n",
            "Epoch 36/100\n",
            "80000/80000 [==============================] - 4s 46us/sample - loss: 0.1792 - val_loss: 0.1789\n",
            "Epoch 37/100\n",
            "80000/80000 [==============================] - 4s 47us/sample - loss: 0.1789 - val_loss: 0.1792\n",
            "Epoch 38/100\n",
            "80000/80000 [==============================] - 4s 48us/sample - loss: 0.1787 - val_loss: 0.1785\n",
            "Epoch 39/100\n",
            "80000/80000 [==============================] - 4s 47us/sample - loss: 0.1785 - val_loss: 0.1783\n",
            "Epoch 40/100\n",
            "80000/80000 [==============================] - 4s 48us/sample - loss: 0.1783 - val_loss: 0.1799\n",
            "Epoch 41/100\n",
            "80000/80000 [==============================] - 4s 49us/sample - loss: 0.1781 - val_loss: 0.1780\n",
            "Epoch 42/100\n",
            "80000/80000 [==============================] - 4s 49us/sample - loss: 0.1779 - val_loss: 0.1784\n",
            "Epoch 43/100\n",
            "80000/80000 [==============================] - 4s 48us/sample - loss: 0.1777 - val_loss: 0.1775\n",
            "Epoch 44/100\n",
            "80000/80000 [==============================] - 4s 48us/sample - loss: 0.1774 - val_loss: 0.1775\n",
            "Epoch 45/100\n",
            "80000/80000 [==============================] - 4s 48us/sample - loss: 0.1773 - val_loss: 0.1771\n",
            "Epoch 46/100\n",
            "80000/80000 [==============================] - 4s 49us/sample - loss: 0.1772 - val_loss: 0.1770\n",
            "Epoch 47/100\n",
            "80000/80000 [==============================] - 4s 47us/sample - loss: 0.1770 - val_loss: 0.1767\n",
            "Epoch 48/100\n",
            "80000/80000 [==============================] - 4s 47us/sample - loss: 0.1769 - val_loss: 0.1771\n",
            "Epoch 49/100\n",
            "80000/80000 [==============================] - 4s 47us/sample - loss: 0.1768 - val_loss: 0.1767\n",
            "Epoch 50/100\n",
            "80000/80000 [==============================] - 4s 47us/sample - loss: 0.1765 - val_loss: 0.1769\n",
            "Epoch 51/100\n",
            "80000/80000 [==============================] - 4s 48us/sample - loss: 0.1764 - val_loss: 0.1763\n",
            "Epoch 52/100\n",
            "80000/80000 [==============================] - 4s 47us/sample - loss: 0.1763 - val_loss: 0.1761\n",
            "Epoch 53/100\n",
            "80000/80000 [==============================] - 4s 47us/sample - loss: 0.1762 - val_loss: 0.1760\n",
            "Epoch 54/100\n",
            "80000/80000 [==============================] - 4s 47us/sample - loss: 0.1760 - val_loss: 0.1760\n",
            "Epoch 55/100\n",
            "80000/80000 [==============================] - 4s 47us/sample - loss: 0.1760 - val_loss: 0.1766\n",
            "Epoch 56/100\n",
            "80000/80000 [==============================] - 4s 47us/sample - loss: 0.1757 - val_loss: 0.1763\n",
            "Epoch 57/100\n",
            "80000/80000 [==============================] - 4s 48us/sample - loss: 0.1757 - val_loss: 0.1758\n",
            "Epoch 58/100\n",
            "80000/80000 [==============================] - 4s 47us/sample - loss: 0.1755 - val_loss: 0.1762\n",
            "Epoch 59/100\n",
            "80000/80000 [==============================] - 4s 47us/sample - loss: 0.1755 - val_loss: 0.1762\n",
            "Epoch 60/100\n",
            "80000/80000 [==============================] - 4s 47us/sample - loss: 0.1754 - val_loss: 0.1759\n",
            "Epoch 61/100\n",
            "80000/80000 [==============================] - 4s 47us/sample - loss: 0.1753 - val_loss: 0.1757\n",
            "Epoch 62/100\n",
            "80000/80000 [==============================] - 4s 47us/sample - loss: 0.1752 - val_loss: 0.1753\n",
            "Epoch 63/100\n",
            "80000/80000 [==============================] - 4s 47us/sample - loss: 0.1752 - val_loss: 0.1756\n",
            "Epoch 64/100\n",
            "80000/80000 [==============================] - 4s 47us/sample - loss: 0.1749 - val_loss: 0.1753\n",
            "Epoch 65/100\n",
            "80000/80000 [==============================] - 4s 47us/sample - loss: 0.1749 - val_loss: 0.1749\n",
            "Epoch 66/100\n",
            "80000/80000 [==============================] - 4s 47us/sample - loss: 0.1749 - val_loss: 0.1753\n",
            "Epoch 67/100\n",
            "80000/80000 [==============================] - 4s 48us/sample - loss: 0.1747 - val_loss: 0.1766\n",
            "Epoch 68/100\n",
            "80000/80000 [==============================] - 4s 47us/sample - loss: 0.1748 - val_loss: 0.1745\n",
            "Epoch 69/100\n",
            "80000/80000 [==============================] - 4s 47us/sample - loss: 0.1746 - val_loss: 0.1749\n",
            "Epoch 70/100\n",
            "80000/80000 [==============================] - 4s 47us/sample - loss: 0.1746 - val_loss: 0.1744\n",
            "Epoch 71/100\n",
            "80000/80000 [==============================] - 4s 46us/sample - loss: 0.1745 - val_loss: 0.1754\n",
            "Epoch 72/100\n",
            "80000/80000 [==============================] - 4s 47us/sample - loss: 0.1743 - val_loss: 0.1747\n",
            "Epoch 73/100\n",
            "80000/80000 [==============================] - 4s 48us/sample - loss: 0.1743 - val_loss: 0.1743\n",
            "Epoch 74/100\n",
            "80000/80000 [==============================] - 4s 47us/sample - loss: 0.1743 - val_loss: 0.1753\n",
            "Epoch 75/100\n",
            "80000/80000 [==============================] - 4s 47us/sample - loss: 0.1741 - val_loss: 0.1744\n",
            "Epoch 76/100\n",
            "80000/80000 [==============================] - 4s 47us/sample - loss: 0.1741 - val_loss: 0.1745\n",
            "Epoch 77/100\n",
            "80000/80000 [==============================] - 4s 46us/sample - loss: 0.1740 - val_loss: 0.1739\n",
            "Epoch 78/100\n",
            "80000/80000 [==============================] - 4s 48us/sample - loss: 0.1740 - val_loss: 0.1745\n",
            "Epoch 79/100\n",
            "80000/80000 [==============================] - 4s 47us/sample - loss: 0.1739 - val_loss: 0.1748\n",
            "Epoch 80/100\n",
            "80000/80000 [==============================] - 4s 47us/sample - loss: 0.1738 - val_loss: 0.1742\n",
            "Epoch 81/100\n",
            "80000/80000 [==============================] - 4s 47us/sample - loss: 0.1737 - val_loss: 0.1738\n",
            "Epoch 82/100\n",
            "80000/80000 [==============================] - 4s 47us/sample - loss: 0.1737 - val_loss: 0.1741\n",
            "Epoch 83/100\n",
            "80000/80000 [==============================] - 4s 48us/sample - loss: 0.1736 - val_loss: 0.1745\n",
            "Epoch 84/100\n",
            "80000/80000 [==============================] - 4s 46us/sample - loss: 0.1736 - val_loss: 0.1735\n",
            "Epoch 85/100\n",
            "80000/80000 [==============================] - 4s 46us/sample - loss: 0.1735 - val_loss: 0.1759\n",
            "Epoch 86/100\n",
            "80000/80000 [==============================] - 4s 47us/sample - loss: 0.1734 - val_loss: 0.1738\n",
            "Epoch 87/100\n",
            "80000/80000 [==============================] - 4s 46us/sample - loss: 0.1734 - val_loss: 0.1746\n",
            "Epoch 88/100\n",
            "80000/80000 [==============================] - 4s 46us/sample - loss: 0.1733 - val_loss: 0.1748\n",
            "Epoch 89/100\n",
            "80000/80000 [==============================] - 4s 47us/sample - loss: 0.1732 - val_loss: 0.1732\n",
            "Epoch 90/100\n",
            "80000/80000 [==============================] - 4s 46us/sample - loss: 0.1733 - val_loss: 0.1730\n",
            "Epoch 91/100\n",
            "80000/80000 [==============================] - 4s 46us/sample - loss: 0.1731 - val_loss: 0.1729\n",
            "Epoch 92/100\n",
            "80000/80000 [==============================] - 4s 46us/sample - loss: 0.1731 - val_loss: 0.1743\n",
            "Epoch 93/100\n",
            "80000/80000 [==============================] - 4s 48us/sample - loss: 0.1731 - val_loss: 0.1734\n",
            "Epoch 94/100\n",
            "80000/80000 [==============================] - 4s 49us/sample - loss: 0.1729 - val_loss: 0.1732\n",
            "Epoch 95/100\n",
            "80000/80000 [==============================] - 4s 47us/sample - loss: 0.1729 - val_loss: 0.1731\n",
            "Epoch 96/100\n",
            "80000/80000 [==============================] - 4s 46us/sample - loss: 0.1729 - val_loss: 0.1728\n",
            "Epoch 97/100\n",
            "80000/80000 [==============================] - 4s 47us/sample - loss: 0.1728 - val_loss: 0.1727\n",
            "Epoch 98/100\n",
            "80000/80000 [==============================] - 4s 47us/sample - loss: 0.1728 - val_loss: 0.1728\n",
            "Epoch 99/100\n",
            "80000/80000 [==============================] - 4s 47us/sample - loss: 0.1727 - val_loss: 0.1733\n",
            "Epoch 100/100\n",
            "80000/80000 [==============================] - 4s 46us/sample - loss: 0.1727 - val_loss: 0.1726\n"
          ],
          "name": "stdout"
        },
        {
          "output_type": "execute_result",
          "data": {
            "text/plain": [
              "<tensorflow.python.keras.callbacks.History at 0x7fdf8b0ece48>"
            ]
          },
          "metadata": {
            "tags": []
          },
          "execution_count": 21
        }
      ]
    },
    {
      "cell_type": "code",
      "metadata": {
        "id": "6Go4IKw9QeZI",
        "colab_type": "code",
        "colab": {}
      },
      "source": [
        ""
      ],
      "execution_count": 0,
      "outputs": []
    }
  ]
}